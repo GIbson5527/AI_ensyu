{
  "nbformat": 4,
  "nbformat_minor": 0,
  "metadata": {
    "colab": {
      "provenance": [],
      "authorship_tag": "ABX9TyN8mVGfDu8ykQwWjlu03Gdw",
      "include_colab_link": true
    },
    "kernelspec": {
      "name": "python3",
      "display_name": "Python 3"
    },
    "language_info": {
      "name": "python"
    }
  },
  "cells": [
    {
      "cell_type": "markdown",
      "metadata": {
        "id": "view-in-github",
        "colab_type": "text"
      },
      "source": [
        "<a href=\"https://colab.research.google.com/github/GIbson5527/AI_ensyu/blob/test1/Training.ipynb\" target=\"_parent\"><img src=\"https://colab.research.google.com/assets/colab-badge.svg\" alt=\"Open In Colab\"/></a>"
      ]
    },
    {
      "cell_type": "code",
      "execution_count": null,
      "metadata": {
        "colab": {
          "base_uri": "https://localhost:8080/"
        },
        "id": "RljD5R_VsBNh",
        "outputId": "ce62fa9d-4275-44e2-cebb-3cae5588a13e"
      },
      "outputs": [
        {
          "output_type": "execute_result",
          "data": {
            "text/plain": [
              "7"
            ]
          },
          "metadata": {},
          "execution_count": 2
        }
      ],
      "source": [
        "3+4"
      ]
    },
    {
      "cell_type": "code",
      "source": [
        "3 * 4"
      ],
      "metadata": {
        "colab": {
          "base_uri": "https://localhost:8080/"
        },
        "id": "BflKaXZUtZDT",
        "outputId": "c684d07c-f981-4f77-bf85-1df69a0a2f71"
      },
      "execution_count": null,
      "outputs": [
        {
          "output_type": "execute_result",
          "data": {
            "text/plain": [
              "12"
            ]
          },
          "metadata": {},
          "execution_count": 3
        }
      ]
    },
    {
      "cell_type": "code",
      "source": [
        "num = 3\n",
        "moji = \"abc\""
      ],
      "metadata": {
        "id": "FijW4YJXtmkr"
      },
      "execution_count": null,
      "outputs": []
    },
    {
      "cell_type": "code",
      "source": [
        "print(num)\n",
        "print(moji)"
      ],
      "metadata": {
        "colab": {
          "base_uri": "https://localhost:8080/"
        },
        "id": "ixJMMdfduEPk",
        "outputId": "7b322235-947d-4844-b3e8-7f67c33a0312"
      },
      "execution_count": null,
      "outputs": [
        {
          "output_type": "stream",
          "name": "stdout",
          "text": [
            "3\n",
            "abc\n"
          ]
        }
      ]
    },
    {
      "cell_type": "code",
      "source": [
        "a = 123\n",
        "b = \"moji\"\n",
        "c = 3.14"
      ],
      "metadata": {
        "id": "oFZBhjSzu9lh"
      },
      "execution_count": null,
      "outputs": []
    },
    {
      "cell_type": "code",
      "source": [
        "b * a"
      ],
      "metadata": {
        "colab": {
          "base_uri": "https://localhost:8080/",
          "height": 126
        },
        "id": "inASvIqQw0Ww",
        "outputId": "98b77936-3a33-4e76-f521-0dd4cfd89922"
      },
      "execution_count": null,
      "outputs": [
        {
          "output_type": "execute_result",
          "data": {
            "text/plain": [
              "'mojimojimojimojimojimojimojimojimojimojimojimojimojimojimojimojimojimojimojimojimojimojimojimojimojimojimojimojimojimojimojimojimojimojimojimojimojimojimojimojimojimojimojimojimojimojimojimojimojimojimojimojimojimojimojimojimojimojimojimojimojimojimojimojimojimojimojimojimojimojimojimojimojimojimojimojimojimojimojimojimojimojimojimojimojimojimojimojimojimojimojimojimojimojimojimojimojimojimojimojimojimojimojimojimojimojimojimojimojimojimojimojimojimojimojimojimojimojimojimojimojimojimoji'"
            ],
            "application/vnd.google.colaboratory.intrinsic+json": {
              "type": "string"
            }
          },
          "metadata": {},
          "execution_count": 12
        }
      ]
    },
    {
      "cell_type": "code",
      "source": [
        "123"
      ],
      "metadata": {
        "colab": {
          "base_uri": "https://localhost:8080/"
        },
        "id": "qQ5lvSwZw1yH",
        "outputId": "6abaf967-12ad-44d7-cf66-6ae05c3525bf"
      },
      "execution_count": null,
      "outputs": [
        {
          "output_type": "execute_result",
          "data": {
            "text/plain": [
              "123"
            ]
          },
          "metadata": {},
          "execution_count": 13
        }
      ]
    },
    {
      "cell_type": "code",
      "source": [
        "import pandas as pd"
      ],
      "metadata": {
        "id": "oDbePbPpzq9b"
      },
      "execution_count": null,
      "outputs": []
    },
    {
      "cell_type": "code",
      "source": [
        "import statistics as st"
      ],
      "metadata": {
        "id": "DQr3rcJD5HTf"
      },
      "execution_count": null,
      "outputs": []
    },
    {
      "cell_type": "code",
      "source": [
        "data = [8,17,0,11,6,21,16,6,17,11,7,9,6,13,12,16,3,14,13,12]"
      ],
      "metadata": {
        "id": "BM_QRmNEAGiR"
      },
      "execution_count": null,
      "outputs": []
    },
    {
      "cell_type": "code",
      "source": [],
      "metadata": {
        "id": "rWKfRFJXA7zi"
      },
      "execution_count": null,
      "outputs": []
    }
  ]
}